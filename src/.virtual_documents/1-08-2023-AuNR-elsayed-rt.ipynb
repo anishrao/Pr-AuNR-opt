import glob
import os, time
#import itertools
import numpy as np
#import seaborn as sns
import pandas as pd
from natsort import natsorted

import matplotlib.pyplot as plt
import matplotlib.colors as mcolors
import matplotlib.cm as cm
#from mpl_toolkits.mplot3d import Axes3D
#from mpl_toolkits.axes_grid1.inset_locator import inset_axes
#from cycler import cycler
#from datetime import datetime, timedelta

#from scipy.stats import norm
#from scipy.optimize import curve_fit #we could import more, but this is what we need
#from scipy.stats import linregress

#from misc_process import normalize_max

%matplotlib inline


'''
Get paths to corresponsing folders
'''

# get the path to the project's main directory (e.g., Project051)
BASE_DIR_PATH = os.path.dirname(os.path.abspath(os.getcwd()))

# ------------------------- data folder -----------------------

# get the path to the folder containing raw data
DATA_DIR_PATH = os.path.join(BASE_DIR_PATH, 'data', '')

# get the path to the folder containing UV-Vis-NIR raw data
DATA_UV_DIR_PATH = os.path.join(BASE_DIR_PATH, 'data', 'UV-Vis-NIR','2023-08-01-aunr-elsayed-rt-synthesis','')

# ------------------------- output folder -----------------------

# # get the path to the folder with generated figures
RESULT_DIR_PATH = os.path.join(BASE_DIR_PATH, 'results', 'figs', '')

# # get the path to the folder with generated csv data
RESULT_DIR_PATH_CSV = os.path.join(BASE_DIR_PATH, 'results', 'csv', '')



'''
Import example data from UV-Vis-NIR folder
'''

#================ import data =========================#

# Load reference CSV file
ref_df = pd.read_csv(os.path.join(DATA_UV_DIR_PATH+'rev-obj.csv'), header=None)



# import file using read_csv function in pandas
#df = pd.read_csv(DATA_UV_DIR_PATH+'Example_UV_Vis_Rods.csv',
#                 index_col= 'Wavelength (nm)')

# normalize all columns using home made function in misc_process.py
#df_norm = normalize_max(df)






# Path to folder containing CSV files
folder_path = DATA_UV_DIR_PATH

# Load reference CSV file
ref_df = pd.read_csv(os.path.join(folder_path, 'rev-obj.csv'))

# Initialize empty list to store norm values
norm_values = []
file_names = []

# Loop through all CSV files in the folder
for filename in os.listdir(folder_path):
        if filename.endswith('.csv') and filename != 'rev-obj.csv':
            # Load CSV file into a Pandas DataFrame
            df = pd.read_csv(os.path.join(folder_path, filename), delimiter=';')
            # Normalize the second column of the DataFrame
            df.iloc[:, 1] = (df.iloc[:, 1] - df.iloc[:, 1].min()) / (df.iloc[:, 1].max() - df.iloc[:, 1].min())     

            # Calculate the L2 norm of the difference between the normalized second column of the file and the reference file
            diff = df.iloc[:, 1] - ref_df.iloc[:, 1]

            norm_value = np.linalg.norm(diff)
            norm_value = round(norm_value, 2)
        
            # Add the norm value to the list
            norm_values.append((filename,norm_value))

# Print the list of all the norm values
print(natsorted(norm_values))

# save the loss values
# df_triplicate_lost = pd.DataFrame(natsorted(norm_values))
# df_triplicate_lost.to_csv(RESULT_DIR_PATH_CSV+'iteration-loss.csv', header=None, index=False) 



# Define the path to the folder containing the CSV files
folder_path = DATA_UV_DIR_PATH

# Get a list of all CSV files in the folder
csv_files = glob.glob(os.path.join(folder_path, '*.csv'))

# Define the reference CSV file name
ref_file_name = 'rev-obj.csv'

# Read the reference CSV file into a Pandas DataFrame
ref_df = pd.read_csv(os.path.join(folder_path, ref_file_name), header=None)

# Create a figure with 5 rows and 4 columns of subplots, 12 inches long and  inches wide, 300 dpi
fig, axs = plt.subplots(5, 4, figsize=(12, 15), dpi=300)

# Initialize variables to keep track of subplot indices
row_index = 0
col_index = 0

# Initialize empty list to store Abs at lambda max. / Abs at 400nm
abs_ratios = []
num = 1

# Loop through all CSV files in the folder
for csv_file in natsorted(csv_files):
    
    # Check if the current file is not the reference file
    if os.path.basename(csv_file) != ref_file_name:
        # Read the CSV file into a Pandas DataFrame
        df = pd.read_csv(csv_file, header=None, delimiter=';')

        # Normalize the second column of the DataFrame
        df.iloc[:, 1] = (df.iloc[:, 1] - df.iloc[:, 1].min()) / (df.iloc[:, 1].max() - df.iloc[:, 1].min())
        
        # Calculate the ratio of abs at lambda max / abs at 400nm
        abs_ratio = df.iloc[:, 1].max() / df.iloc[700, 1]
        abs_ratios.append(round(abs_ratio, 2))
        
        # Plot the normalized second column of the current file against the reference file in the current subplot
        axs[row_index, col_index].plot(ref_df[0], ref_df[1], color = 'k', label='Objective')
        axs[row_index, col_index].plot(df.iloc[:, 0], df.iloc[:, 1], color='r', label='Exp'+str(num))
        num = num+1
        axs[row_index, col_index].set_xlabel(r'Wavelength (nm)', fontsize='large')
        axs[row_index, col_index].set_ylabel(r'Norm. Extinction', fontsize='large')
        axs[row_index, col_index].legend(loc = 'upper left', frameon=False, fontsize='medium')
        axs[row_index, col_index].set_xlim(400,1100)
        axs[row_index, col_index].set_ylim([0,1.3])

        fig.tight_layout()

        # Increment the column index
        col_index += 1

        # If the column index is equal to 5, reset it to 0 and increment the row index
        if col_index == 4:
            col_index = 0
            row_index += 1

plt.show()

# saving the figure
# fig.savefig(RESULT_DIR_PATH+'opt_1_iteration_plot.pdf')






