import glob
import os, time
#import itertools
import numpy as np
import seaborn as sns
import pandas as pd
from natsort import natsorted


import matplotlib.pyplot as plt
import matplotlib.colors as mcolors
import matplotlib.cm as cm
#from mpl_toolkits.mplot3d import Axes3D
#from mpl_toolkits.axes_grid1.inset_locator import inset_axes
#from cycler import cycler
#from datetime import datetime, timedelta

#from scipy.stats import norm
#from scipy.optimize import curve_fit #we could import more, but this is what we need
#from scipy.stats import linregress

#from misc_process import normalize_max

%matplotlib inline


'''
Get paths to corresponsing folders
'''

# get the path to the project's main directory (e.g., Project051)
BASE_DIR_PATH = os.path.dirname(os.path.abspath(os.getcwd()))

# ------------------------- data folder -----------------------

# get the path to the folder containing raw data
DATA_DIR_PATH = os.path.join(BASE_DIR_PATH, 'data', '')

# get the path to the folder containing UV-Vis-NIR raw data
DATA_UV_DIR_PATH = os.path.join(BASE_DIR_PATH, 'data', 'atinary','')

# ------------------------- output folder -----------------------

# # get the path to the folder with generated figures
RESULT_DIR_PATH = os.path.join(BASE_DIR_PATH, 'results', 'figs', '')

# # get the path to the folder with generated csv data
RESULT_DIR_PATH_CSV = os.path.join(BASE_DIR_PATH, 'results', 'csv', '')



# Path to folder containing CSV files
folder_path = DATA_UV_DIR_PATH

# Get a list of all CSV files in the folder
csv_files = glob.glob(os.path.join(folder_path, '*.csv'))

csv_files


df0 = pd.read_csv(csv_files[0])
df0

df1 = pd.read_csv(csv_files[1])
df1

df2 = pd.read_csv(csv_files[2])
df2

df3 = pd.read_csv(csv_files[3])
df3

df4 = pd.read_csv(csv_files[4])
df4

df5 = pd.read_csv(csv_files[5])
df5

df6 = pd.read_csv(csv_files[6])
df6

df7 = pd.read_csv(csv_files[7])
df7

df8 = pd.read_csv(csv_files[8])
df8


plt.plot(df0['loss'])
plt.plot(df1['loss'])
plt.plot(df3['loss'])
plt.plot(df4['loss'])
plt.plot(df5['loss'])
plt.plot(df6['loss'])
plt.plot(df7['loss'])
plt.plot(df8['loss'])


csv_files


import os
import glob
import numpy as np
import pandas as pd
import matplotlib.pyplot as plt
import seaborn as sns
from matplotlib.colors import LinearSegmentedColormap

# Get the path to the project's main directory (e.g., Project051)
BASE_DIR_PATH = os.path.dirname(os.path.abspath(os.getcwd()))

# Define the data and result folders
DATA_DIR_PATH = os.path.join(BASE_DIR_PATH, 'data', 'atinary')
RESULT_DIR_PATH = os.path.join(BASE_DIR_PATH, 'results', 'figs')

# Path to the folder containing CSV files
folder_path = DATA_DIR_PATH

# Get a list of all CSV files in the folder
csv_files = glob.glob(os.path.join(folder_path, '*.csv'))

# Define the intensity column for each CSV file
intensity_columns = {
    csv_files[0]: 'loss',
    csv_files[1]: 'loss',
    csv_files[2]: 'loss',
    csv_files[3]: 'loss',
    csv_files[4]: 'loss',
    csv_files[5]: 'loss',
    csv_files[6]: 'loss',
    csv_files[7]: 'loss',
    csv_files[8]: 'loss'
    # Add more files and their corresponding intensity columns as needed
}

# Calculate the number of rows and columns for the subplots
num_rows = len(csv_files)
num_cols = 1

# Create a list to store all the dataframes for heatmaps
all_data = []

# Process all CSV files using a loop
for idx, csv_file in enumerate(csv_files):
    title = f'Experiment {idx+1}'
    intensity_column = intensity_columns.get(csv_file)
    if intensity_column is None:
        raise ValueError(f"Intensity column not defined for file: {csv_file}")
    
    # Read the CSV file
    df = pd.read_csv(csv_file)
    
    # Ensure the DataFrame has 20 rows (iterations)
    df = df.iloc[:20, :]
    
    # Create a DataFrame with 20 iterations (x_data) and fill missing intensity values with NaN
    x_data = np.linspace(0, 19, 20)
    data = pd.DataFrame({'x': x_data, 'y': idx+1})
    data = data.merge(df[[intensity_column]], left_on='x', right_index=True, how='left')
    data.rename(columns={intensity_column: 'intensity'}, inplace=True)
    
    all_data.append(data)

# Combine all the dataframes into a single dataframe
combined_data = pd.concat(all_data)

# Create a custom colormap with blue, grey, and red colors
colors = [
    (0.0, 'blue'),       # Blue at value 8 and below
    (0.5, 'whitesmoke'),       # Grey at value 8.45 (midpoint between 8 and 8.9)
    (1.0, 'red'),        # Red at value 8.9 and above
]
cmap = LinearSegmentedColormap.from_list('custom_colormap', colors)

# Set the lower and upper limits for intensity values
lower_limit = 5
upper_limit = 15

# Increase the font size for colorbar heading
cbar_font = {'family': 'Arial', 'size': 15}
# Create the single heatmap with all experiments' data using the custom colormap
fig = plt.figure(figsize=(18, 1*num_rows), dpi = 600) # generate a figure

ax = sns.heatmap(combined_data.pivot('y', 'x', 'intensity'), cmap=cmap, annot=True, fmt='.2f', cbar=True,
                 mask=combined_data.pivot('y', 'x', 'intensity').isnull(),
                 cbar_kws={'label': 'Intensity', 'extend': 'both'}, vmin=lower_limit, vmax=upper_limit,
                 annot_kws={'fontfamily': 'Arial', 'fontsize': 12})  # Leave annot font size as it is

# Get the colorbar
cbar = ax.collections[0].colorbar

# Set font size for colorbar heading
cbar.set_label('Intensity', **cbar_font)

# Set font and size for all text elements
font = {'family': 'Arial', 'size': 15}
plt.xlabel('Iterations', fontdict=font)
plt.ylabel('Experiments', fontdict=font)
plt.xticks(fontname='Arial', fontsize=15)
plt.yticks(fontname='Arial', fontsize=15)

# Set the x-axis ticks and labels for the iterations
ax.set_xticks(np.arange(20) + 0.5)  # Shift the ticks to be centered under each cell
ax.set_xticklabels(np.arange(1, 21))  # Set the x-axis labels from 1 to 20

# Add spines on left and bottom axes
ax.spines['left'].set_visible(True)
ax.spines['bottom'].set_visible(True)

plt.show()



import os
import glob
import numpy as np
import pandas as pd
import matplotlib.pyplot as plt
import seaborn as sns
from matplotlib.colors import LinearSegmentedColormap

# Get the path to the project's main directory (e.g., Project051)
BASE_DIR_PATH = os.path.dirname(os.path.abspath(os.getcwd()))

# Define the data and result folders
DATA_DIR_PATH = os.path.join(BASE_DIR_PATH, 'data', 'atinary')
RESULT_DIR_PATH = os.path.join(BASE_DIR_PATH, 'results', 'figs')

# Path to the folder containing CSV files
folder_path = DATA_DIR_PATH

# Get a list of all CSV files in the folder
csv_files = glob.glob(os.path.join(folder_path, '*.csv'))

# Define the intensity column for each CSV file
intensity_columns = {
    csv_files[0]: 'loss',
    csv_files[1]: 'loss',
    csv_files[2]: 'loss',
    csv_files[3]: 'loss',
    csv_files[4]: 'loss',
    csv_files[5]: 'loss',
    csv_files[6]: 'loss',
    csv_files[7]: 'loss',
    csv_files[8]: 'loss'
    # Add more files and their corresponding intensity columns as needed
}

# Calculate the number of rows and columns for the subplots
num_rows = len(csv_files)
num_cols = 1

# Create a list to store all the dataframes for heatmaps
all_data = []

# Process all CSV files using a loop
for idx, csv_file in enumerate(csv_files):
    title = f'Experiment {idx+1}'
    intensity_column = intensity_columns.get(csv_file)
    if intensity_column is None:
        raise ValueError(f"Intensity column not defined for file: {csv_file}")
    
    # Read the CSV file
    df = pd.read_csv(csv_file)
    
    # Ensure the DataFrame has 20 rows (iterations)
    df = df.iloc[:20, :]
    
    # Create a DataFrame with 20 iterations (x_data) and fill missing intensity values with NaN
    x_data = np.linspace(0, 19, 20)
    data = pd.DataFrame({'x': x_data, 'y': idx+1})
    data = data.merge(df[[intensity_column]], left_on='x', right_index=True, how='left')
    data.rename(columns={intensity_column: 'intensity'}, inplace=True)
    
    all_data.append(data)

# Combine all the dataframes into a single dataframe
combined_data = pd.concat(all_data)

# Create a custom colormap with blue, grey, and red colors
colors = [
    (0.0, 'blue'),       # Blue at value 8 and below
    (0.5, 'whitesmoke'),       # Grey at value 8.45 (midpoint between 8 and 8.9)
    (1.0, 'red'),        # Red at value 8.9 and above
]
cmap = LinearSegmentedColormap.from_list('custom_colormap', colors)

# Set the lower and upper limits for intensity values
lower_limit = 5
upper_limit = 15

# Increase the font size for colorbar heading
cbar_font = {'family': 'Arial', 'size': 15}
# Create the single heatmap with all experiments' data using the custom colormap
fig = plt.figure(figsize=(2*(1*num_rows), 1*num_rows), dpi = 600) # generate a figure

ax = sns.heatmap(combined_data.pivot('y', 'x', 'intensity'), cmap=cmap, annot=False, fmt='.2f', cbar=True,
                 mask=combined_data.pivot('y', 'x', 'intensity').isnull(),
                 cbar_kws={'label': 'Intensity', 'extend': 'both'}, vmin=lower_limit, vmax=upper_limit,
                 annot_kws={'fontfamily': 'Arial', 'fontsize': 12})  # Leave annot font size as it is

# Get the colorbar
cbar = ax.collections[0].colorbar
cbar.ax.tick_params(labelsize=15)

# Set font size for colorbar heading
cbar.set_label('Intensity', **cbar_font)

# Set font and size for all text elements
font = {'family': 'Arial', 'size': 15}
plt.xlabel('Iterations', fontdict=font)
plt.ylabel('Experiments', fontdict=font)
plt.xticks(fontname='Arial', fontsize=15)
plt.yticks(fontname='Arial', fontsize=15, rotation=0)

# Set the x-axis ticks and labels for the iterations
ax.set_xticks(np.arange(20) + 0.5)  # Shift the ticks to be centered under each cell
ax.set_xticklabels(np.arange(1, 21))  # Set the x-axis labels from 1 to 20

# Add spines on left and bottom axes
ax.spines['left'].set_visible(True)
ax.spines['bottom'].set_visible(True)

plt.show()



import os
import glob
import numpy as np
import pandas as pd
import matplotlib.pyplot as plt
import seaborn as sns
from matplotlib.colors import LinearSegmentedColormap

# Get the path to the project's main directory (e.g., Project051)
BASE_DIR_PATH = os.path.dirname(os.path.abspath(os.getcwd()))

# Define the data and result folders
DATA_DIR_PATH = os.path.join(BASE_DIR_PATH, 'data', 'atinary')
RESULT_DIR_PATH = os.path.join(BASE_DIR_PATH, 'results', 'figs')

# Path to the folder containing CSV files
folder_path = DATA_DIR_PATH

# Get a list of all CSV files in the folder
csv_files = glob.glob(os.path.join(folder_path, '*.csv'))

# Define the intensity column for each CSV file
intensity_columns = {
    csv_files[0]: 'loss',
    csv_files[1]: 'loss',
    csv_files[2]: 'loss',
    csv_files[3]: 'loss',
    csv_files[4]: 'loss',
    csv_files[5]: 'loss',
    csv_files[6]: 'loss',
    csv_files[7]: 'loss',
    csv_files[8]: 'loss'
    # Add more files and their corresponding intensity columns as needed
}

# Calculate the number of rows and columns for the subplots
num_rows = len(csv_files)
num_cols = 1

# Create a list to store all the dataframes for heatmaps
all_data = []

# Process all CSV files using a loop
for idx, csv_file in enumerate(csv_files):
    title = f'Experiment {idx+1}'
    intensity_column = intensity_columns.get(csv_file)
    if intensity_column is None:
        raise ValueError(f"Intensity column not defined for file: {csv_file}")
    
    # Read the CSV file
    df = pd.read_csv(csv_file)
    
    # Ensure the DataFrame has 20 rows (iterations)
    df = df.iloc[:20, :]
    
    # Create a DataFrame with 20 iterations (x_data) and fill missing intensity values with NaN
    x_data = np.linspace(0, 19, 20)
    data = pd.DataFrame({'x': x_data, 'y': idx+1})
    data = data.merge(df[[intensity_column]], left_on='x', right_index=True, how='left')
    data.rename(columns={intensity_column: 'intensity'}, inplace=True)
    
    all_data.append(data)

# Combine all the dataframes into a single dataframe
combined_data = pd.concat(all_data)

# Create a custom colormap with blue, grey, and red colors
colors = [
    (0.0, 'blue'),       # Blue at value 8 and below
    (0.5, 'whitesmoke'),       # Grey at value 8.45 (midpoint between 8 and 8.9)
    (1.0, 'red'),        # Red at value 8.9 and above
]
cmap = LinearSegmentedColormap.from_list('custom_colormap', colors)

# Set the lower and upper limits for intensity values
lower_limit = 6
upper_limit = 12

# Create the single heatmap with all experiments' data using Seaborn's coolwarm palette
fig = plt.figure(figsize=(2.5 * (1 * num_rows), 1 * num_rows), dpi=600)  # generate a figure

ax = sns.heatmap(combined_data.pivot('y', 'x', 'intensity'), cmap='coolwarm', annot=True, fmt='.2f', cbar=True,
                 mask=combined_data.pivot('y', 'x', 'intensity').isnull(),
                 cbar_kws={'label': 'Intensity', 'extend': 'both'}, vmin=lower_limit, vmax=upper_limit,
                 annot_kws={'fontfamily': 'Arial', 'fontsize': 12})  # Leave annot font size as it is

# Get the colorbar
cbar = ax.collections[0].colorbar
cbar.ax.tick_params(labelsize=15)

# Set font size for colorbar heading
cbar.set_label('Intensity', **cbar_font)

# Set font and size for all text elements
font = {'family': 'Arial', 'size': 15}
plt.xlabel('Iterations', fontdict=font)
plt.ylabel('Experiments', fontdict=font)
plt.xticks(fontname='Arial', fontsize=15)
plt.yticks(fontname='Arial', fontsize=15, rotation=0)

# Set the x-axis ticks and labels for the iterations
ax.set_xticks(np.arange(20) + 0.5)  # Shift the ticks to be centered under each cell
ax.set_xticklabels(np.arange(1, 21))  # Set the x-axis labels from 1 to 20

# Add spines on left and bottom axes
ax.spines['left'].set_visible(True)
ax.spines['bottom'].set_visible(True)

plt.show()



csv_files


import pandas as pd
import seaborn as sns
import matplotlib.pyplot as plt
from matplotlib.colors import LinearSegmentedColormap
from mpl_toolkits.axes_grid1.inset_locator import inset_axes

# Sample list of 8 CSV files (replace these with your own file paths)
csv_files = [
    csv_files[0], 
    csv_files[1], 
    csv_files[2], 
    csv_files[3], 
    csv_files[4], 
    csv_files[5], 
    csv_files[6], 
    csv_files[7],
    csv_files[8]
]

# Define the x, y, and intensity data for each CSV file
x_data_columns = {
    csv_files[0]: 'temp',
    csv_files[1]: 'temp',
    csv_files[2]: 'temp',
    csv_files[3]: 'temp',
    csv_files[4]: 'temp',
    csv_files[5]: 'temp',
    csv_files[6]: 'temp',
    csv_files[7]: 'temp',
    csv_files[8]: 'temp'
}

y_data_columns = {
    csv_files[0]: 'Asc-acid',
    csv_files[1]: 'Asc-acid',
    csv_files[2]: 'Asc-acid',
    csv_files[3]: 'Asc-acid',
    csv_files[4]: 'Asc-acid',
    csv_files[5]: 'Asc-acid',
    csv_files[6]: 'Asc-acid',
    csv_files[7]: 'Asc-acid',
    csv_files[8]: 'Asc-acid',
}

intensity_columns = {
    csv_files[0]: 'loss',
    csv_files[1]: 'loss',
    csv_files[2]: 'loss',
    csv_files[3]: 'loss',
    csv_files[4]: 'loss',
    csv_files[5]: 'loss',
    csv_files[6]: 'loss',
    csv_files[7]: 'loss',
    csv_files[8]: 'loss'
}

# Create empty lists to store data from all CSV files
all_x_data = []
all_y_data = []
all_intensity = []

# Process all CSV files using a loop
for csv_file in csv_files:
    df = pd.read_csv(csv_file)
    
    # Extract x, y, and intensity data from the current DataFrame using the specified columns
    x_data = df[x_data_columns[csv_file]]
    y_data = df[y_data_columns[csv_file]]
    intensity = df[intensity_columns[csv_file]]
    
    # Append the data to the corresponding lists
    all_x_data.extend(x_data)
    all_y_data.extend(y_data)
    all_intensity.extend(intensity)

# Combine the data into a single DataFrame
combined_data = pd.DataFrame({
    'x_data': all_x_data,
    'y_data': all_y_data,
    'intensity': all_intensity
})

# Create a custom colormap with blue and red colors
colors = [
    (0.0, 'red'),       # Red at value 8 and below
    (1.0, 'blue'),      # Blue at value 8.9 and above
]
cmap = LinearSegmentedColormap.from_list('custom_colormap', colors)

# Create the scatter plot with combined data and using the custom colormap
fig = plt.figure(figsize=(4, 4), dpi=600)  # generate a figure
ax = sns.scatterplot(x='x_data', y='y_data', data=combined_data, hue='intensity', palette=cmap, s=50, legend='brief', linewidth=0, alpha = 0.7)
ax.set_xlabel('Temperature (\N{DEGREE SIGN}C)')
ax.set_ylabel('Ascorbic Acid')


# Remove the top and right spines
ax.spines['top'].set_visible(False)
ax.spines['right'].set_visible(False)

# Move the legend outside the plot
plt.legend(loc='upper right', bbox_to_anchor=(1.5, 0.9), title='Intensity', frameon = False)

plt.show()


import pandas as pd
import seaborn as sns
import matplotlib.pyplot as plt
from matplotlib.colors import LinearSegmentedColormap
from mpl_toolkits.axes_grid1.inset_locator import inset_axes

# Sample list of 8 CSV files (replace these with your own file paths)
csv_files = [
    csv_files[0], 
    csv_files[1], 
    csv_files[2], 
    csv_files[3], 
    csv_files[4], 
    csv_files[5], 
    csv_files[6], 
    csv_files[7],
    csv_files[8],
]

# Define the x, y, and intensity data for each CSV file
x_data_columns = {
    csv_files[0]: 'temp',
    csv_files[1]: 'temp',
    csv_files[2]: 'temp',
    csv_files[3]: 'temp',
    csv_files[4]: 'temp',
    csv_files[5]: 'temp',
    csv_files[6]: 'temp',
    csv_files[7]: 'temp',
    csv_files[8]: 'temp',
}

y_data_columns = {
    csv_files[0]: 'Asc-acid',
    csv_files[1]: 'Asc-acid',
    csv_files[2]: 'Asc-acid',
    csv_files[3]: 'Asc-acid',
    csv_files[4]: 'Asc-acid',
    csv_files[5]: 'Asc-acid',
    csv_files[6]: 'Asc-acid',
    csv_files[7]: 'Asc-acid',
    csv_files[8]: 'Asc-acid',
}

intensity_columns = {
    csv_files[0]: 'loss',
    csv_files[1]: 'loss',
    csv_files[2]: 'loss',
    csv_files[3]: 'loss',
    csv_files[4]: 'loss',
    csv_files[5]: 'loss',
    csv_files[6]: 'loss',
    csv_files[7]: 'loss',
    csv_files[8]: 'loss'
}

# Create empty lists to store data from all CSV files
all_x_data = []
all_y_data = []
all_intensity = []

# Process all CSV files using a loop
for csv_file in csv_files:
    df = pd.read_csv(csv_file)
    
    # Extract x, y, and intensity data from the current DataFrame using the specified columns
    x_data = df[x_data_columns[csv_file]]
    y_data = df[y_data_columns[csv_file]]
    intensity = df[intensity_columns[csv_file]]
    
    # Append the data to the corresponding lists
    all_x_data.extend(x_data)
    all_y_data.extend(y_data)
    all_intensity.extend(intensity)

# Combine the data into a single DataFrame
combined_data = pd.DataFrame({
    'x_data': all_x_data,
    'y_data': all_y_data,
    'intensity': all_intensity
})

# Create a custom colormap with blue and red colors
colors = [
    (0.0, 'red'),       # Red at value 8 and below
    (1.0, 'blue'),      # Blue at value 8.9 and above
]
cmap = LinearSegmentedColormap.from_list('custom_colormap', colors)


# Create the scatter plot with combined data and using the custom colormap
fig = plt.figure(figsize=(4, 4), dpi=600)  # generate a figure
# Increase point size for intensity >= 8 to 10 and point size for intensity < 8 to 100
point_sizes = [20 if intensity >= 8 else 100 for intensity in all_intensity]
ax = sns.scatterplot(x='x_data', y='y_data', data=combined_data, hue='intensity', palette=cmap, s=point_sizes, legend='brief', linewidth=0, alpha = 0.7)
ax.set_xlabel('Temperature (\N{DEGREE SIGN}C)')
ax.set_ylabel('Ascorbic Acid')

# Remove the top and right spines
ax.spines['top'].set_visible(False)
ax.spines['right'].set_visible(False)

# Move the legend outside the plot
plt.legend(loc='upper right', bbox_to_anchor=(1.5, 0.9), title='Intensity', frameon=False)

plt.show()


import pandas as pd
import seaborn as sns
import matplotlib.pyplot as plt
from matplotlib.colors import LinearSegmentedColormap
from mpl_toolkits.axes_grid1.inset_locator import inset_axes

# Sample list of 8 CSV files (replace these with your own file paths)
csv_files = [
    csv_files[0], 
    csv_files[1], 
    csv_files[2], 
    csv_files[3], 
    csv_files[4], 
    csv_files[5], 
    csv_files[6], 
    csv_files[7],
    csv_files[8]
]

# Define the x, y, and intensity data for each CSV file
x_data_columns = {
    csv_files[0]: 'temp',
    csv_files[1]: 'temp',
    csv_files[2]: 'temp',
    csv_files[3]: 'temp',
    csv_files[4]: 'temp',
    csv_files[5]: 'temp',
    csv_files[6]: 'temp',
    csv_files[7]: 'temp',
    csv_files[8]: 'temp'
}

y_data_columns = {
    csv_files[0]: 'Asc-acid',
    csv_files[1]: 'Asc-acid',
    csv_files[2]: 'Asc-acid',
    csv_files[3]: 'Asc-acid',
    csv_files[4]: 'Asc-acid',
    csv_files[5]: 'Asc-acid',
    csv_files[6]: 'Asc-acid',
    csv_files[7]: 'Asc-acid',
    csv_files[8]: 'Asc-acid',
}

intensity_columns = {
    csv_files[0]: 'loss',
    csv_files[1]: 'loss',
    csv_files[2]: 'loss',
    csv_files[3]: 'loss',
    csv_files[4]: 'loss',
    csv_files[5]: 'loss',
    csv_files[6]: 'loss',
    csv_files[7]: 'loss',
    csv_files[8]: 'loss'
}

# Create empty lists to store data from all CSV files
all_x_data = []
all_y_data = []
all_intensity = []

# Process all CSV files using a loop
for csv_file in csv_files:
    df = pd.read_csv(csv_file)
    
    # Extract x, y, and intensity data from the current DataFrame using the specified columns
    x_data = df[x_data_columns[csv_file]]
    y_data = df[y_data_columns[csv_file]]
    intensity = df[intensity_columns[csv_file]]
    
    # Append the data to the corresponding lists
    all_x_data.extend(x_data)
    all_y_data.extend(y_data)
    all_intensity.extend(intensity)
# Combine the data into a single DataFrame
combined_data = pd.DataFrame({
    'x_data': all_x_data,
    'y_data': all_y_data,
    'intensity': all_intensity
})

# Create the scatter plot with combined data and using the custom colormap
fig = plt.figure(figsize=(4, 4), dpi=600)  # generate a figure
# Increase point size for intensity >= 8 to 10 and point size for intensity < 8 to 100
point_sizes = [10 if intensity >= 8 else 100 for intensity in combined_data['intensity']]
ax = sns.scatterplot(x='x_data', y='y_data', data=combined_data, hue='intensity', palette=cmap, s=point_sizes, legend='brief', linewidth=0, alpha = 0.7)
ax.set_xlabel('Temperature (\N{DEGREE SIGN}C)')
ax.set_ylabel('Ascorbic Acid')

# Remove the top and right spines
ax.spines['top'].set_visible(False)
ax.spines['right'].set_visible(False)

# Move the legend outside the plot
plt.legend(loc='upper right', bbox_to_anchor=(1.5, 0.9), title='Intensity', frameon=False)

plt.show()


import pandas as pd
import seaborn as sns
import matplotlib.pyplot as plt
from matplotlib.colors import LinearSegmentedColormap
from mpl_toolkits.axes_grid1.inset_locator import inset_axes

# Sample list of 8 CSV files (replace these with your own file paths)
csv_files = [
    csv_files[0], 
    csv_files[1], 
    csv_files[2], 
    csv_files[3], 
    csv_files[4], 
    csv_files[5], 
    csv_files[6], 
    csv_files[7],
    csv_files[8]
]

# Define the x, y, and intensity data for each CSV file
x_data_columns = {
    csv_files[0]: 'temp',
    csv_files[1]: 'temp',
    csv_files[2]: 'temp',
    csv_files[3]: 'temp',
    csv_files[4]: 'temp',
    csv_files[5]: 'temp',
    csv_files[6]: 'temp',
    csv_files[7]: 'temp',
    csv_files[8]: 'temp'
}

y_data_columns = {
    csv_files[0]: 'silver',
    csv_files[1]: 'silver',
    csv_files[2]: 'silver',
    csv_files[3]: 'silver',
    csv_files[4]: 'silver',
    csv_files[5]: 'silver',
    csv_files[6]: 'silver',
    csv_files[7]: 'silver',
    csv_files[8]: 'silver'
}

intensity_columns = {
    csv_files[0]: 'loss',
    csv_files[1]: 'loss',
    csv_files[2]: 'loss',
    csv_files[3]: 'loss',
    csv_files[4]: 'loss',
    csv_files[5]: 'loss',
    csv_files[6]: 'loss',
    csv_files[7]: 'loss',
    csv_files[8]: 'loss'
}

# Create empty lists to store data from all CSV files
all_x_data = []
all_y_data = []
all_intensity = []

# Process all CSV files using a loop
for csv_file in csv_files:
    df = pd.read_csv(csv_file)
    
    # Extract x, y, and intensity data from the current DataFrame using the specified columns
    x_data = df[x_data_columns[csv_file]]
    y_data = df[y_data_columns[csv_file]]
    intensity = df[intensity_columns[csv_file]]
    
    # Append the data to the corresponding lists
    all_x_data.extend(x_data)
    all_y_data.extend(y_data)
    all_intensity.extend(intensity)
# Combine the data into a single DataFrame
combined_data = pd.DataFrame({
    'x_data': all_x_data,
    'y_data': all_y_data,
    'intensity': all_intensity
})

# Create the scatter plot with combined data and using the custom colormap
fig = plt.figure(figsize=(4, 4), dpi=600)  # generate a figure
# Increase point size for intensity >= 8 to 10 and point size for intensity < 8 to 100
point_sizes = [10 if intensity >= 8 else 100 for intensity in combined_data['intensity']]
ax = sns.scatterplot(x='x_data', y='y_data', data=combined_data, hue='intensity', palette=cmap, s=point_sizes, legend='brief', linewidth=0, alpha = 0.7)
ax.set_xlabel('Temperature (\N{DEGREE SIGN}C)')
ax.set_ylabel('Silver')

# Remove the top and right spines
ax.spines['top'].set_visible(False)
ax.spines['right'].set_visible(False)

# Move the legend outside the plot
plt.legend(loc='upper right', bbox_to_anchor=(1.5, 0.9), title='Intensity', frameon=False)

plt.show()


import pandas as pd
import seaborn as sns
import matplotlib.pyplot as plt
from matplotlib.colors import LinearSegmentedColormap
from mpl_toolkits.axes_grid1.inset_locator import inset_axes

# Sample list of 8 CSV files (replace these with your own file paths)
csv_files = [
    csv_files[0], 
    csv_files[1], 
    csv_files[2], 
    csv_files[3], 
    csv_files[4], 
    csv_files[5], 
    csv_files[6], 
    csv_files[7],
    csv_files[8]
]

# Process all CSV files using a loop
#for csv_file in csv_files:
#    df = pd.read_csv(csv_file)
#    print(natsorted(df.columns))


# Define the x, y, and intensity data for each CSV file
x_data_columns = {
    csv_files[0]: 'temp',
    csv_files[1]: 'temp',
    csv_files[2]: 'temp',
    csv_files[3]: 'temp',
    csv_files[4]: 'temp',
    csv_files[5]: 'temp',
    csv_files[6]: 'temp',
    csv_files[7]: 'temp',
    csv_files[8]: 'temp'
}

y_data_columns = {
    csv_files[0]: 'seeds',
    csv_files[1]: 'seeds',
    csv_files[2]: 'seeds',
    csv_files[3]: 'seeds',
    csv_files[4]: 'seeds',
    csv_files[5]: 'seeds',
    csv_files[6]: 'seeds',
    csv_files[7]: 'seeds',
    csv_files[8]: 'seeds'
}

intensity_columns = {
    csv_files[0]: 'loss',
    csv_files[1]: 'loss',
    csv_files[2]: 'loss',
    csv_files[3]: 'loss',
    csv_files[4]: 'loss',
    csv_files[5]: 'loss',
    csv_files[6]: 'loss',
    csv_files[7]: 'loss',
    csv_files[8]: 'loss'
}

# Create empty lists to store data from all CSV files
all_x_data = []
all_y_data = []
all_intensity = []

# Process all CSV files using a loop
for csv_file in csv_files:
    df = pd.read_csv(csv_file)
    
    # Extract x, y, and intensity data from the current DataFrame using the specified columns
    x_data = df[x_data_columns[csv_file]]
    y_data = df[y_data_columns[csv_file]]
    intensity = df[intensity_columns[csv_file]]
    
    # Append the data to the corresponding lists
    all_x_data.extend(x_data)
    all_y_data.extend(y_data)
    all_intensity.extend(intensity)
# Combine the data into a single DataFrame
combined_data = pd.DataFrame({
    'x_data': all_x_data,
    'y_data': all_y_data,
    'intensity': all_intensity
})

# Create the scatter plot with combined data and using the custom colormap
fig = plt.figure(figsize=(4, 4), dpi=600)  # generate a figure
# Increase point size for intensity >= 8 to 10 and point size for intensity < 8 to 100
point_sizes = [10 if intensity >= 8 else 100 for intensity in combined_data['intensity']]
ax = sns.scatterplot(x='x_data', y='y_data', data=combined_data, hue='intensity', palette=cmap, s=point_sizes, legend='brief', linewidth=0, alpha = 0.7)
ax.set_xlabel('Temperature (\N{DEGREE SIGN}C)')
ax.set_ylabel('Seeds')

# Remove the top and right spines
ax.spines['top'].set_visible(False)
ax.spines['right'].set_visible(False)

# Move the legend outside the plot
plt.legend(loc='upper right', bbox_to_anchor=(1.5, 0.9), title='Intensity', frameon=False)

plt.show()


import pandas as pd
import seaborn as sns
import matplotlib.pyplot as plt
from matplotlib.colors import LinearSegmentedColormap
from mpl_toolkits.axes_grid1.inset_locator import inset_axes

# Sample list of 8 CSV files (replace these with your own file paths)
csv_files = [
    csv_files[0], 
    csv_files[1], 
    csv_files[2], 
    csv_files[3], 
    csv_files[4], 
    csv_files[5], 
    csv_files[6], 
    csv_files[7],
    csv_files[8]
]

# Process all CSV files using a loop
#for csv_file in csv_files:
#    df = pd.read_csv(csv_file)
#    print(natsorted(df.columns))


# Define the x, y, and intensity data for each CSV file
x_data_columns = {
    csv_files[0]: 'temp',
    csv_files[1]: 'temp',
    csv_files[2]: 'temp',
    csv_files[3]: 'temp',
    csv_files[4]: 'temp',
    csv_files[5]: 'temp',
    csv_files[6]: 'temp',
    csv_files[7]: 'temp',
    csv_files[8]: 'temp'
}

y_data_columns = {
    csv_files[0]: 'hcl',
    csv_files[1]: 'hcl',
    csv_files[2]: 'hcl',
    csv_files[3]: 'hcl',
    csv_files[4]: 'hcl',
    csv_files[5]: 'hcl',
    csv_files[6]: 'hcl',
    csv_files[7]: 'hcl',
    csv_files[8]: 'hcl'
}

intensity_columns = {
    csv_files[0]: 'loss',
    csv_files[1]: 'loss',
    csv_files[2]: 'loss',
    csv_files[3]: 'loss',
    csv_files[4]: 'loss',
    csv_files[5]: 'loss',
    csv_files[6]: 'loss',
    csv_files[7]: 'loss',
    csv_files[8]: 'loss'
}

# Create empty lists to store data from all CSV files
all_x_data = []
all_y_data = []
all_intensity = []

# Process all CSV files using a loop
for csv_file in csv_files:
    df = pd.read_csv(csv_file)
    
    # Extract x, y, and intensity data from the current DataFrame using the specified columns
    x_data = df[x_data_columns[csv_file]]
    y_data = df[y_data_columns[csv_file]]
    intensity = df[intensity_columns[csv_file]]
    
    # Append the data to the corresponding lists
    all_x_data.extend(x_data)
    all_y_data.extend(y_data)
    all_intensity.extend(intensity)
# Combine the data into a single DataFrame
combined_data = pd.DataFrame({
    'x_data': all_x_data,
    'y_data': all_y_data,
    'intensity': all_intensity
})

# Create the scatter plot with combined data and using the custom colormap
fig = plt.figure(figsize=(4, 4), dpi=600)  # generate a figure
# Increase point size for intensity >= 8 to 10 and point size for intensity < 8 to 100
point_sizes = [10 if intensity >= 8 else 100 for intensity in combined_data['intensity']]
ax = sns.scatterplot(x='x_data', y='y_data', data=combined_data, hue='intensity', palette=cmap, s=point_sizes, legend='brief', linewidth=0, alpha = 0.7)
ax.set_xlabel('Temperature (\N{DEGREE SIGN}C)')
ax.set_ylabel('HCl')

# Remove the top and right spines
ax.spines['top'].set_visible(False)
ax.spines['right'].set_visible(False)

# Move the legend outside the plot
plt.legend(loc='upper right', bbox_to_anchor=(1.5, 0.9), title='Intensity', frameon=False)

plt.show()





data_all_exp = pd.read_csv('dataset-all_exp.csv')

data_all_exp['loss'] = data_all_exp[data_all_exp['loss'] < 8.0]['loss']
df_loss_lessthan_8 = data_all_exp.dropna()

df_loss_lessthan_8.to_csv('loss_lessthan_8.csv')


data = pd.read_csv('loss_lessthan_8.csv')

data


import numpy as np
import matplotlib.pyplot as plt

data = pd.read_csv('loss_lessthan_8.csv')

def plot_radar_chart(data, labels, title, line_color='blue', shade_color='gray'):
    num_vars = len(data)
    angles = np.linspace(0, 2 * np.pi, num_vars, endpoint=False)
    data = np.concatenate((data, [data[0]]))
    angles = np.concatenate((angles, [angles[0]]))

    fig, ax = plt.subplots(figsize=(6, 6), subplot_kw=dict(polar=True))
    
    # Change font and font size
    plt.rcParams['font.family'] = 'Arial'  # Specify the font family
    plt.rcParams['font.size'] = 15  # Specify the font size
    
    ax.plot(angles, data, 'o-', linewidth=2, color=line_color)  # Specify line color here
    ax.fill(angles, data, alpha=0.25, color=shade_color)  # Specify shaded area color here
    ax.set_thetagrids(np.degrees(angles[:-1]), labels)  # Use angles[:-1] to match the number of labels
    ax.fill(angles, data, alpha=0.25, color=shade_color)
    plt.show()

# Example usage:
data_columns = ['seeds', 'Asc-acid', 'hcl', 'temp', 'silver']
data = data[data_columns].values.T  # Transpose the data to get it in the correct format for the radar chart
labels = ['Seeds', 'Asc. Acid', 'HCl', 'Temp.', 'Ag']  # 5 labels to match 5 data points

# Customize line_color and shade_color here (e.g., 'red', 'green', 'purple', '#RRGGBB', etc.)
line_color = 'firebrick'
shade_color = 'lightblue'

plot_radar_chart(data, labels, title, line_color=line_color, shade_color=shade_color)



import numpy as np
import matplotlib.pyplot as plt

data = pd.read_csv('loss_lessthan_8.csv')
data

def plot_radar_chart(data, labels, title):
    num_vars = len(data)
    angles = np.linspace(0, 2 * np.pi, num_vars, endpoint=False)
    data = np.concatenate((data, [data[0]]))
    angles = np.concatenate((angles, [angles[0]]))

    fig, ax = plt.subplots(figsize=(6, 6), subplot_kw=dict(polar=True))
    
    # Change font and font size
    plt.rcParams['font.family'] = 'Arial'  # Specify the font family
    plt.rcParams['font.size'] = 15  # Specify the font size
    
    ax.plot(angles, data, 'o-', linewidth=2)
    ax.fill(angles, data, alpha=0.25)
    ax.set_thetagrids(np.degrees(angles[:-1]), labels)  # Use angles[:-1] to match the number of labels
    ax.fill(angles, data, alpha=0.25)
    plt.show()

# Example usage:
data_columns = ['seeds', 'Asc-acid', 'hcl', 'temp', 'silver']
data = data[data_columns].values.T  # Transpose the data to get it in the correct format for the radar chart
labels = ['Seeds', 'Asc. Acid', 'HCl', 'Temp.', 'Ag']  # 5 labels to match 5 data points
 
plot_radar_chart(data, labels, title)





import numpy as np
import matplotlib.pyplot as plt
import pandas as pd

data = pd.read_csv('loss_lessthan_8.csv')

def plot_radar_chart(data, labels, title, rlim_min=None, rlim_max=None):
    num_vars = len(data)
    angles = np.linspace(0, 2 * np.pi, num_vars, endpoint=False)
    data = np.concatenate((data, [data[0]]))
    angles = np.concatenate((angles, [angles[0]]))

    fig, ax = plt.subplots(figsize=(6, 6), subplot_kw=dict(polar=True))
    
    # Change font and font size
    plt.rcParams['font.family'] = 'Arial'  # Specify the font family
    plt.rcParams['font.size'] = 15  # Specify the font size
    
    ax.plot(angles, data, 'o-', linewidth=2)
    ax.fill(angles, data, alpha=0.25)
    ax.set_thetagrids(np.degrees(angles[:-1]), labels)  # Use angles[:-1] to match the number of labels
    ax.fill(angles, data, alpha=0.25)

    if rlim_min is not None and rlim_max is not None:
        ax.set_rlim(rlim_min, rlim_max)
    
    ax.set_title(title)
    plt.show()

# Example usage:
data_columns = ['seeds', 'Asc-acid', 'hcl', 'temp', 'silver']
data = data[data_columns].values.T  # Transpose the data to get it in the correct format for the radar chart
labels = ['Seeds', 'Asc. Acid', 'HCl', 'Temp.', 'Ag']  # 5 labels to match 5 data points
title = ''

# Set the minimum and maximum limits for each variable
rlim_min = 25
rlim_max = 50

plot_radar_chart(data, labels, title, rlim_min, rlim_max)



import numpy as np
import matplotlib.pyplot as plt
import pandas as pd

def plot_radar_chart(data, labels, title):
    num_vars = len(data)
    angles = np.linspace(0, 2 * np.pi, num_vars, endpoint=False)
    data = np.concatenate((data, [data[0]]))
    angles = np.concatenate((angles, [angles[0]]))

    fig, ax = plt.subplots(figsize=(6, 6), subplot_kw=dict(polar=True))
    ax.plot(angles, data, 'o-', linewidth=2)
    ax.fill(angles, data, alpha=0.25)
    ax.set_thetagrids(np.degrees(angles[:-1]), labels)  # Use angles[:-1] to match the number of labels
    ax.set_title(title)
    ax.fill(angles, data, alpha=0.25)
    plt.show()

# Example usage:
data = pd.read_csv('loss_lessthan_8.csv')
data_columns = ['seeds', 'Asc-acid', 'hcl', 'temp', 'silver']
labels = ['Seeds', 'Asc. Acid', 'HCl', 'Temp.', 'Ag']  # 5 labels to match 5 data points

for _, row in data.iterrows():
    plot_radar_chart(row[data_columns].values, labels, 'Radar Chart Example')




